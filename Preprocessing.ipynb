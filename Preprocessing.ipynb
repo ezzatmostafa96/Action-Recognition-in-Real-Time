{
 "cells": [
  {
   "cell_type": "code",
   "execution_count": 1,
   "metadata": {},
   "outputs": [],
   "source": [
    "import pandas as pd\n",
    "import numpy as np\n",
    "import os, time, cv2, tqdm, warnings\n",
    "import matplotlib.pyplot as plt\n",
    "from tqdm import tqdm\n",
    "warnings.filterwarnings('ignore')\n",
    "\n",
    "tqdm.pandas()\n",
    "\n",
    "TARGET = 'dataset/Class1'\n",
    "NORMAL_PATH = 'dataset/Class2/'\n",
    "ORIGINAL_PATH = TARGET + '/'"
   ]
  },
  {
   "cell_type": "code",
   "execution_count": 2,
   "metadata": {},
   "outputs": [],
   "source": [
    "def create_dir(path):\n",
    "    try:\n",
    "        os.stat(path)\n",
    "    except:\n",
    "        os.mkdir(path)  \n",
    "\n",
    "def initialize_dirs():\n",
    "    create_dir('data/')\n",
    "    create_dir('data/Train/')\n",
    "    create_dir('data/Val/')\n",
    "    create_dir('data/_training_logs/')\n",
    "    create_dir('data/Train/Class1')\n",
    "    create_dir('data/Train/Class2')\n",
    "    create_dir('data/Val/Class1')\n",
    "    create_dir('data/Val/Class2')\n",
    "    create_dir('weights')"
   ]
  },
  {
   "cell_type": "code",
   "execution_count": 3,
   "metadata": {},
   "outputs": [],
   "source": [
    "# create data dirs\n",
    "initialize_dirs()"
   ]
  },
  {
   "cell_type": "code",
   "execution_count": 4,
   "metadata": {},
   "outputs": [],
   "source": [
    "def get_size(start_path = 'data/'):\n",
    "    total_size = 0\n",
    "    for dirpath, dirnames, filenames in os.walk(start_path):\n",
    "        for f in filenames:\n",
    "            fp = os.path.join(dirpath, f)\n",
    "            # skip if it is symbolic link\n",
    "            if not os.path.islink(fp):\n",
    "                total_size += os.path.getsize(fp)\n",
    "\n",
    "    return total_size"
   ]
  },
  {
   "cell_type": "code",
   "execution_count": 5,
   "metadata": {},
   "outputs": [
    {
     "data": {
      "text/plain": [
       "['v_CricketBowling_g01_c07.avi', 'v_CricketBowling_g02_c01.avi']"
      ]
     },
     "execution_count": 5,
     "metadata": {},
     "output_type": "execute_result"
    }
   ],
   "source": [
    "# check if the videos actually exist\n",
    "os.listdir(ORIGINAL_PATH)[6:8]"
   ]
  },
  {
   "cell_type": "code",
   "execution_count": 6,
   "metadata": {},
   "outputs": [
    {
     "data": {
      "text/plain": [
       "['v_CricketShot_g01_c07.avi', 'v_CricketShot_g02_c01.avi']"
      ]
     },
     "execution_count": 6,
     "metadata": {},
     "output_type": "execute_result"
    }
   ],
   "source": [
    "# check if the videos actually exist\n",
    "os.listdir(NORMAL_PATH)[6:8]"
   ]
  },
  {
   "cell_type": "code",
   "execution_count": 7,
   "metadata": {},
   "outputs": [],
   "source": [
    "SIZE = (224, 224)\n",
    "TRAIN_SIZE = (0,120)\n",
    "VAL_SIZE = (120,139)\n",
    "#TEST_SIZE = (0,0)\n",
    "\n",
    "TAKE_FRAME = 1\n",
    "\n",
    "def generate_data(POSITIVES_PATH, NEGATIVES_PATH, VIDEO_IDX = (0,2)):\n",
    "    # process original videos\n",
    "    print('Processing class1 videos...')\n",
    "    for value in tqdm(os.listdir(ORIGINAL_PATH)[VIDEO_IDX[0]:VIDEO_IDX[1]]):\n",
    "        path = ORIGINAL_PATH + value\n",
    "        vidcap = cv2.VideoCapture(path)\n",
    "        success,image = vidcap.read()\n",
    "        count = 0\n",
    "        while success:\n",
    "            if count % TAKE_FRAME == 0:\n",
    "                image = cv2.resize(image, SIZE)\n",
    "                cv2.imwrite(POSITIVES_PATH + value.split('.')[0] + f'_frame{count}.jpg', image)\n",
    "            success,image = vidcap.read()\n",
    "            count += 1\n",
    "\n",
    "    # process other videos\n",
    "    print('Processing class2 videos...')\n",
    "    for value in tqdm(os.listdir(NORMAL_PATH)[VIDEO_IDX[0]:VIDEO_IDX[1]]):\n",
    "        path = NORMAL_PATH + value\n",
    "        vidcap = cv2.VideoCapture(path)\n",
    "        success,image = vidcap.read()\n",
    "        count = 0\n",
    "        while success:\n",
    "            if count % TAKE_FRAME == 0:\n",
    "                image = cv2.resize(image, SIZE)\n",
    "                cv2.imwrite(NEGATIVES_PATH + value.split('.')[0] + f'_frame{count}.jpg', image)\n",
    "            success,image = vidcap.read()\n",
    "            count += 1\n",
    "    print(f'Final data size estimate: {get_size() * 1e-6} mb')"
   ]
  },
  {
   "cell_type": "code",
   "execution_count": 8,
   "metadata": {},
   "outputs": [
    {
     "name": "stdout",
     "output_type": "stream",
     "text": [
      "Processing class1 videos...\n"
     ]
    },
    {
     "name": "stderr",
     "output_type": "stream",
     "text": [
      "100%|████████████████████████████████████████████████████████████████████████████████| 120/120 [00:20<00:00,  6.33it/s]\n"
     ]
    },
    {
     "name": "stdout",
     "output_type": "stream",
     "text": [
      "Processing class2 videos...\n"
     ]
    },
    {
     "name": "stderr",
     "output_type": "stream",
     "text": [
      "100%|████████████████████████████████████████████████████████████████████████████████| 120/120 [00:18<00:00,  7.42it/s]\n"
     ]
    },
    {
     "name": "stdout",
     "output_type": "stream",
     "text": [
      "Final data size estimate: 367.518618 mb\n",
      "=== Finished processing training videos ===\n"
     ]
    }
   ],
   "source": [
    "generate_data('data/Train/Class1/', 'data/Train/Class2/', VIDEO_IDX = TRAIN_SIZE)\n",
    "print('=== Finished processing training videos ===')"
   ]
  },
  {
   "cell_type": "code",
   "execution_count": 9,
   "metadata": {},
   "outputs": [
    {
     "name": "stdout",
     "output_type": "stream",
     "text": [
      "Processing class1 videos...\n"
     ]
    },
    {
     "name": "stderr",
     "output_type": "stream",
     "text": [
      "100%|██████████████████████████████████████████████████████████████████████████████████| 19/19 [00:02<00:00,  7.57it/s]\n"
     ]
    },
    {
     "name": "stdout",
     "output_type": "stream",
     "text": [
      "Processing class2 videos...\n"
     ]
    },
    {
     "name": "stderr",
     "output_type": "stream",
     "text": [
      "100%|██████████████████████████████████████████████████████████████████████████████████| 19/19 [00:02<00:00,  7.16it/s]\n"
     ]
    },
    {
     "name": "stdout",
     "output_type": "stream",
     "text": [
      "Final data size estimate: 419.569391 mb\n",
      "=== Finished processing validation videos ===\n"
     ]
    }
   ],
   "source": [
    "generate_data('data/Val/Class1/', 'data/Val/Class2/', VIDEO_IDX = VAL_SIZE)\n",
    "print('=== Finished processing validation videos ===')"
   ]
  },
  {
   "cell_type": "code",
   "execution_count": 10,
   "metadata": {},
   "outputs": [],
   "source": [
    "#generate_data('data/Test/', 'data/Test/', VIDEO_IDX = TEST_SIZE)"
   ]
  },
  {
   "cell_type": "code",
   "execution_count": null,
   "metadata": {},
   "outputs": [],
   "source": []
  }
 ],
 "metadata": {
  "kernelspec": {
   "display_name": "Python 3",
   "language": "python",
   "name": "python3"
  },
  "language_info": {
   "codemirror_mode": {
    "name": "ipython",
    "version": 3
   },
   "file_extension": ".py",
   "mimetype": "text/x-python",
   "name": "python",
   "nbconvert_exporter": "python",
   "pygments_lexer": "ipython3",
   "version": "3.7.4"
  }
 },
 "nbformat": 4,
 "nbformat_minor": 2
}
